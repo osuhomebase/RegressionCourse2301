{
 "cells": [
  {
   "cell_type": "code",
   "execution_count": 1,
   "metadata": {},
   "outputs": [
    {
     "name": "stderr",
     "output_type": "stream",
     "text": [
      "C:\\Users\\mrb14\\AppData\\Local\\Continuum\\Anaconda3\\lib\\site-packages\\statsmodels\\compat\\pandas.py:56: FutureWarning: The pandas.core.datetools module is deprecated and will be removed in a future version. Please use the pandas.tseries module instead.\n",
      "  from pandas.core import datetools\n"
     ]
    }
   ],
   "source": [
    "import numpy as np\n",
    "import pandas as pd\n",
    "\n",
    "import seaborn as sns\n",
    "import matplotlib.pyplot as plt\n",
    "#show plots inline\n",
    "%matplotlib inline\n",
    "import statsmodels.api as sm\n",
    "from scipy import stats"
   ]
  },
  {
   "cell_type": "code",
   "execution_count": 2,
   "metadata": {
    "collapsed": true,
    "scrolled": true
   },
   "outputs": [],
   "source": [
    "students = pd.read_csv(\"MultiVariateCumGPA.csv\",header=0,sep=',')"
   ]
  },
  {
   "cell_type": "code",
   "execution_count": 127,
   "metadata": {},
   "outputs": [],
   "source": [
    "\n",
    "from geopy.geocoders import Nominatim\n",
    "from geopy.distance import vincenty\n",
    "\n",
    "cnt = 0\n",
    "NewYork = (40.7306458, -73.9866136)\n",
    "\n",
    "for index,row in students.iterrows():\n",
    "    if (np.isnan(students.iloc[index]['distance']) ) and cnt < 1000:\n",
    "        \n",
    "        try:\n",
    "            geolocator = Nominatim()\n",
    "            location = geolocator.geocode(row['City'] + ',' + row['StateProvince'] + ',' + row['country'] )\n",
    "            geolocation = (location.latitude , location.longitude)\n",
    "            students.ix[index,'distance'] = vincenty(geolocation,NewYork).miles\n",
    "        except:\n",
    "            students.ix[index,'distance'] = 0\n",
    "        cnt +=1\n",
    "students.to_csv(\"MultiVariateCumGPA.csv\")\n",
    "    "
   ]
  },
  {
   "cell_type": "code",
   "execution_count": 8,
   "metadata": {
    "collapsed": true
   },
   "outputs": [],
   "source": [
    "#sns.pairplot(students, size=4)\n",
    "#plt.show()"
   ]
  },
  {
   "cell_type": "code",
   "execution_count": 3,
   "metadata": {},
   "outputs": [
    {
     "data": {
      "text/plain": [
       "['cnt',\n",
       " 'entryId',\n",
       " 'CUM_GPA',\n",
       " '(No column name)',\n",
       " 'AvgCredits',\n",
       " 'gender',\n",
       " 'ProfileWeightEnum',\n",
       " 'City',\n",
       " 'StateProvince',\n",
       " 'country',\n",
       " 'distance']"
      ]
     },
     "execution_count": 3,
     "metadata": {},
     "output_type": "execute_result"
    }
   ],
   "source": [
    "list(students.columns.values)"
   ]
  },
  {
   "cell_type": "code",
   "execution_count": 124,
   "metadata": {
    "scrolled": false
   },
   "outputs": [
    {
     "name": "stdout",
     "output_type": "stream",
     "text": [
      "[('cnt', 'entryId', 'AvgCredits', 'gender'), ('cnt', 'entryId', 'AvgCredits', 'ProfileWeightEnum'), ('cnt', 'entryId', 'gender', 'ProfileWeightEnum'), ('cnt', 'AvgCredits', 'gender', 'ProfileWeightEnum'), ('entryId', 'AvgCredits', 'gender', 'ProfileWeightEnum')]\n",
      "hello\n",
      "[('cnt', 'entryId', 'AvgCredits'), ('cnt', 'entryId', 'gender'), ('cnt', 'entryId', 'ProfileWeightEnum'), ('cnt', 'AvgCredits', 'gender'), ('cnt', 'AvgCredits', 'ProfileWeightEnum'), ('cnt', 'gender', 'ProfileWeightEnum'), ('entryId', 'AvgCredits', 'gender'), ('entryId', 'AvgCredits', 'ProfileWeightEnum'), ('entryId', 'gender', 'ProfileWeightEnum'), ('AvgCredits', 'gender', 'ProfileWeightEnum')]\n"
     ]
    },
    {
     "ename": "AttributeError",
     "evalue": "'OLSResults' object has no attribute 'std'",
     "output_type": "error",
     "traceback": [
      "\u001b[1;31m---------------------------------------------------------------------------\u001b[0m",
      "\u001b[1;31mAttributeError\u001b[0m                            Traceback (most recent call last)",
      "\u001b[1;32m<ipython-input-124-bf5e9d685981>\u001b[0m in \u001b[0;36m<module>\u001b[1;34m()\u001b[0m\n\u001b[0;32m     22\u001b[0m     \u001b[0mX\u001b[0m \u001b[1;33m=\u001b[0m \u001b[0msm\u001b[0m\u001b[1;33m.\u001b[0m\u001b[0madd_constant\u001b[0m\u001b[1;33m(\u001b[0m\u001b[0mX\u001b[0m\u001b[1;33m)\u001b[0m\u001b[1;33m\u001b[0m\u001b[0m\n\u001b[0;32m     23\u001b[0m     \u001b[0mmodel\u001b[0m \u001b[1;33m=\u001b[0m \u001b[0msm\u001b[0m\u001b[1;33m.\u001b[0m\u001b[0mOLS\u001b[0m\u001b[1;33m(\u001b[0m\u001b[0mstudents\u001b[0m\u001b[1;33m[\u001b[0m\u001b[1;34m'CUM_GPA'\u001b[0m\u001b[1;33m]\u001b[0m\u001b[1;33m,\u001b[0m\u001b[0mX\u001b[0m \u001b[1;33m)\u001b[0m\u001b[1;33m.\u001b[0m\u001b[0mfit\u001b[0m\u001b[1;33m(\u001b[0m\u001b[1;33m)\u001b[0m\u001b[1;33m\u001b[0m\u001b[0m\n\u001b[1;32m---> 24\u001b[1;33m     \u001b[0mprint\u001b[0m\u001b[1;33m(\u001b[0m\u001b[0mmodel\u001b[0m\u001b[1;33m.\u001b[0m\u001b[0mstd\u001b[0m\u001b[1;33m(\u001b[0m\u001b[1;33m)\u001b[0m\u001b[1;33m)\u001b[0m\u001b[1;33m\u001b[0m\u001b[0m\n\u001b[0m\u001b[0;32m     25\u001b[0m     \u001b[0mssr\u001b[0m \u001b[1;33m=\u001b[0m \u001b[0mround\u001b[0m\u001b[1;33m(\u001b[0m\u001b[0mDecimal\u001b[0m\u001b[1;33m(\u001b[0m\u001b[0mmodel\u001b[0m\u001b[1;33m.\u001b[0m\u001b[0mssr\u001b[0m\u001b[1;33m)\u001b[0m\u001b[1;33m,\u001b[0m\u001b[1;36m6\u001b[0m\u001b[1;33m)\u001b[0m\u001b[1;33m\u001b[0m\u001b[0m\n\u001b[0;32m     26\u001b[0m     \u001b[0mmse\u001b[0m \u001b[1;33m=\u001b[0m \u001b[0mround\u001b[0m\u001b[1;33m(\u001b[0m\u001b[0mDecimal\u001b[0m\u001b[1;33m(\u001b[0m\u001b[0mmodel\u001b[0m\u001b[1;33m.\u001b[0m\u001b[0mmse_resid\u001b[0m\u001b[1;33m)\u001b[0m\u001b[1;33m,\u001b[0m\u001b[1;36m6\u001b[0m\u001b[1;33m)\u001b[0m\u001b[1;33m\u001b[0m\u001b[0m\n",
      "\u001b[1;32mC:\\Users\\mrb14\\AppData\\Local\\Continuum\\Anaconda3\\lib\\site-packages\\statsmodels\\base\\wrapper.py\u001b[0m in \u001b[0;36m__getattribute__\u001b[1;34m(self, attr)\u001b[0m\n\u001b[0;32m     33\u001b[0m             \u001b[1;32mpass\u001b[0m\u001b[1;33m\u001b[0m\u001b[0m\n\u001b[0;32m     34\u001b[0m \u001b[1;33m\u001b[0m\u001b[0m\n\u001b[1;32m---> 35\u001b[1;33m         \u001b[0mobj\u001b[0m \u001b[1;33m=\u001b[0m \u001b[0mgetattr\u001b[0m\u001b[1;33m(\u001b[0m\u001b[0mresults\u001b[0m\u001b[1;33m,\u001b[0m \u001b[0mattr\u001b[0m\u001b[1;33m)\u001b[0m\u001b[1;33m\u001b[0m\u001b[0m\n\u001b[0m\u001b[0;32m     36\u001b[0m         \u001b[0mdata\u001b[0m \u001b[1;33m=\u001b[0m \u001b[0mresults\u001b[0m\u001b[1;33m.\u001b[0m\u001b[0mmodel\u001b[0m\u001b[1;33m.\u001b[0m\u001b[0mdata\u001b[0m\u001b[1;33m\u001b[0m\u001b[0m\n\u001b[0;32m     37\u001b[0m         \u001b[0mhow\u001b[0m \u001b[1;33m=\u001b[0m \u001b[0mself\u001b[0m\u001b[1;33m.\u001b[0m\u001b[0m_wrap_attrs\u001b[0m\u001b[1;33m.\u001b[0m\u001b[0mget\u001b[0m\u001b[1;33m(\u001b[0m\u001b[0mattr\u001b[0m\u001b[1;33m)\u001b[0m\u001b[1;33m\u001b[0m\u001b[0m\n",
      "\u001b[1;31mAttributeError\u001b[0m: 'OLSResults' object has no attribute 'std'"
     ]
    }
   ],
   "source": [
    "from itertools import combinations\n",
    "from decimal import *\n",
    "from IPython.display import display, HTML\n",
    "\n",
    "tmpdf = students.drop('CUM_GPA',1)\n",
    "tmpdf = tmpdf.drop('City',1)\n",
    "tmpdf = tmpdf.drop('StateProvince',1)\n",
    "tmpdf = tmpdf.drop('country',1)\n",
    "tmpdf = tmpdf.drop('distance',1)\n",
    "tmpdf = tmpdf.drop('(No column name)',1)\n",
    "\n",
    "combos = list(combinations(tmpdf.columns.values,2)) + list(combinations(tmpdf.columns.values,3)) + list(combinations(tmpdf.columns.values,4))\n",
    "i = 0\n",
    "\n",
    "print(list(combinations(tmpdf.columns.values,4)))\n",
    "print('hello')\n",
    "print(list(combinations(tmpdf.columns.values,3)))\n",
    "summaryDF = pd.DataFrame(columns=['students','variables','rsquared','rsquared_adj','C-p','aic','aic_c','predictors'])\n",
    "\n",
    "for combo in combos:\n",
    "    X = students[list(combo)]\n",
    "    X = sm.add_constant(X)\n",
    "    model = sm.OLS(students['CUM_GPA'],X ).fit()\n",
    "    print(model.std())\n",
    "    ssr = round(Decimal(model.ssr),6)\n",
    "    mse = round(Decimal(model.mse_resid),6)\n",
    "    cp = round(ssr/mse,6) - len(students) + 2*len(list(combo)) + 2\n",
    "    aic_c = model.aic + 2*(len(list(combo))+2)*(len(list(combo))+3)/(len(students)-len(list(combo))-3)\n",
    "    summaryDF = pd.concat([summaryDF,pd.DataFrame({'students':len(students),'variables':len(list(combo)), 'rsquared':model.rsquared, 'rsquared_adj':model.rsquared_adj, 'C-p':cp,'aic':model.aic,'aic_c':aic_c,'predictors':str(list(combo))},index=[i])])   \n",
    "    i = i+1\n",
    "    \n",
    "    \n",
    "for combo in tmpdf.columns.values:\n",
    "    X = students[combo]\n",
    "    X = sm.add_constant(X)\n",
    "    model = sm.OLS(students['CUM_GPA'],X ).fit()\n",
    "    ssr = round(Decimal(model.ssr),6)\n",
    "    mse = round(Decimal(model.mse_resid),6)\n",
    "    cp = round(ssr/mse,6) - len(students) + 2*1 + 2\n",
    "    aic_c = model.aic + 2*(1+2)*(1+3)/(len(students)-1-3)\n",
    "    summaryDF = pd.concat([summaryDF,pd.DataFrame({'students':len(students),'variables':1, 'rsquared':model.rsquared, 'rsquared_adj':model.rsquared_adj, 'C-p':cp,'aic':model.aic,'aic_c':aic_c,'predictors':combo},index=[i])])   \n",
    "    i = i+1\n",
    "display(HTML(summaryDF[['students','variables','rsquared','rsquared_adj','C-p','aic','aic_c','predictors']].sort_values(by=['variables','rsquared']).to_html()))\n",
    "\n",
    "    "
   ]
  },
  {
   "cell_type": "code",
   "execution_count": 123,
   "metadata": {
    "scrolled": false
   },
   "outputs": [
    {
     "data": {
      "text/html": [
       "<table border=\"1\" class=\"dataframe\">\n",
       "  <thead>\n",
       "    <tr style=\"text-align: right;\">\n",
       "      <th></th>\n",
       "      <th>students</th>\n",
       "      <th>variables</th>\n",
       "      <th>rsquared</th>\n",
       "      <th>rsquared_adj</th>\n",
       "      <th>C-p</th>\n",
       "      <th>aic</th>\n",
       "      <th>aic_c</th>\n",
       "      <th>predictors</th>\n",
       "    </tr>\n",
       "  </thead>\n",
       "  <tbody>\n",
       "    <tr>\n",
       "      <th>30</th>\n",
       "      <td>3319</td>\n",
       "      <td>1</td>\n",
       "      <td>0.025182</td>\n",
       "      <td>0.024888</td>\n",
       "      <td>2.008164</td>\n",
       "      <td>3168.384895</td>\n",
       "      <td>3168.392135</td>\n",
       "      <td>gender</td>\n",
       "    </tr>\n",
       "    <tr>\n",
       "      <th>30</th>\n",
       "      <td>3319</td>\n",
       "      <td>1</td>\n",
       "      <td>0.031884</td>\n",
       "      <td>0.031592</td>\n",
       "      <td>2.006273</td>\n",
       "      <td>3145.486382</td>\n",
       "      <td>3145.493622</td>\n",
       "      <td>AvgCredits</td>\n",
       "    </tr>\n",
       "    <tr>\n",
       "      <th>30</th>\n",
       "      <td>3319</td>\n",
       "      <td>2</td>\n",
       "      <td>0.033782</td>\n",
       "      <td>0.033199</td>\n",
       "      <td>2.995793</td>\n",
       "      <td>3140.973989</td>\n",
       "      <td>3140.986059</td>\n",
       "      <td>['cnt', 'AvgCredits']</td>\n",
       "    </tr>\n",
       "    <tr>\n",
       "      <th>30</th>\n",
       "      <td>3319</td>\n",
       "      <td>2</td>\n",
       "      <td>0.056077</td>\n",
       "      <td>0.055508</td>\n",
       "      <td>3.007166</td>\n",
       "      <td>3063.492179</td>\n",
       "      <td>3063.504249</td>\n",
       "      <td>['AvgCredits', 'gender']</td>\n",
       "    </tr>\n",
       "    <tr>\n",
       "      <th>30</th>\n",
       "      <td>3319</td>\n",
       "      <td>3</td>\n",
       "      <td>0.057382</td>\n",
       "      <td>0.056529</td>\n",
       "      <td>4.002053</td>\n",
       "      <td>3060.899713</td>\n",
       "      <td>3060.917824</td>\n",
       "      <td>['cnt', 'AvgCredits', 'gender']</td>\n",
       "    </tr>\n",
       "    <tr>\n",
       "      <th>30</th>\n",
       "      <td>3319</td>\n",
       "      <td>3</td>\n",
       "      <td>0.058045</td>\n",
       "      <td>0.057192</td>\n",
       "      <td>3.992849</td>\n",
       "      <td>3058.565233</td>\n",
       "      <td>3058.583344</td>\n",
       "      <td>['AvgCredits', 'gender', 'ProfileWeightEnum']</td>\n",
       "    </tr>\n",
       "    <tr>\n",
       "      <th>30</th>\n",
       "      <td>3319</td>\n",
       "      <td>4</td>\n",
       "      <td>0.058056</td>\n",
       "      <td>0.056919</td>\n",
       "      <td>5.006727</td>\n",
       "      <td>3060.526133</td>\n",
       "      <td>3060.551495</td>\n",
       "      <td>['entryId', 'AvgCredits', 'gender', 'ProfileWe...</td>\n",
       "    </tr>\n",
       "    <tr>\n",
       "      <th>30</th>\n",
       "      <td>3319</td>\n",
       "      <td>4</td>\n",
       "      <td>0.059297</td>\n",
       "      <td>0.058161</td>\n",
       "      <td>4.992521</td>\n",
       "      <td>3056.151714</td>\n",
       "      <td>3056.177077</td>\n",
       "      <td>['cnt', 'AvgCredits', 'gender', 'ProfileWeight...</td>\n",
       "    </tr>\n",
       "  </tbody>\n",
       "</table>"
      ],
      "text/plain": [
       "<IPython.core.display.HTML object>"
      ]
     },
     "metadata": {},
     "output_type": "display_data"
    }
   ],
   "source": [
    "TrimmedDF = pd.DataFrame(columns=['students','variables','rsquared','rsquared_adj','C-p','aic','aic_c','predictors'])\n",
    "\n",
    "for x in range(1, 5):\n",
    "    tmp = summaryDF.loc[summaryDF['variables'] == x].sort_values(by=['variables','rsquared'],ascending=[True,False])\n",
    "    for y in range (0,2):\n",
    "        tmp2 = tmp.iloc[y].to_frame()\n",
    "        \n",
    "        TrimmedDF = pd.concat([TrimmedDF,pd.DataFrame({'students':tmp2.loc['students'].item(),'variables':tmp2.loc['variables'].item(), 'rsquared':tmp2.loc['rsquared'].item(), 'rsquared_adj':tmp2.loc['rsquared_adj'].item(), 'C-p':tmp2.loc['C-p'].item(),'aic':tmp2.loc['aic'].item(),'aic_c':tmp2.loc['aic_c'].item(),'predictors':tmp2.loc['predictors'].item()},index=[i])])   \n",
    "        #display(HTML(tmp2[['students','variables','rsquared','rsquared_adj','C-p','aic','aic_c','predictors']].to_html()))\n",
    "\n",
    "display(HTML(TrimmedDF[['students','variables','rsquared','rsquared_adj','C-p','aic','aic_c','predictors']].sort_values(by=['variables','rsquared']).to_html()))\n",
    "       \n",
    "del TrimmedDF"
   ]
  },
  {
   "cell_type": "code",
   "execution_count": null,
   "metadata": {
    "collapsed": true
   },
   "outputs": [],
   "source": []
  }
 ],
 "metadata": {
  "kernelspec": {
   "display_name": "Python 3",
   "language": "python",
   "name": "python3"
  },
  "language_info": {
   "codemirror_mode": {
    "name": "ipython",
    "version": 3
   },
   "file_extension": ".py",
   "mimetype": "text/x-python",
   "name": "python",
   "nbconvert_exporter": "python",
   "pygments_lexer": "ipython3",
   "version": "3.6.1"
  }
 },
 "nbformat": 4,
 "nbformat_minor": 2
}
